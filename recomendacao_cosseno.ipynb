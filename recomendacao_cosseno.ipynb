{
  "nbformat": 4,
  "nbformat_minor": 0,
  "metadata": {
    "colab": {
      "provenance": [],
      "authorship_tag": "ABX9TyP0tiBAwraFipGzxBO9P726",
      "include_colab_link": true
    },
    "kernelspec": {
      "name": "python3",
      "display_name": "Python 3"
    },
    "language_info": {
      "name": "python"
    }
  },
  "cells": [
    {
      "cell_type": "markdown",
      "metadata": {
        "id": "view-in-github",
        "colab_type": "text"
      },
      "source": [
        "<a href=\"https://colab.research.google.com/github/CarolinaEstela/algoritmo_recomendacao_garcia/blob/main/recomendacao_cosseno.ipynb\" target=\"_parent\"><img src=\"https://colab.research.google.com/assets/colab-badge.svg\" alt=\"Open In Colab\"/></a>"
      ]
    },
    {
      "cell_type": "code",
      "execution_count": 3,
      "metadata": {
        "colab": {
          "base_uri": "https://localhost:8080/"
        },
        "id": "e9aUg9w6_NLw",
        "outputId": "c6748ca8-7dfe-4dea-fb79-c721c6f4d8e8"
      },
      "outputs": [
        {
          "output_type": "stream",
          "name": "stderr",
          "text": [
            "[nltk_data] Downloading package stopwords to /root/nltk_data...\n",
            "[nltk_data]   Package stopwords is already up-to-date!\n"
          ]
        },
        {
          "output_type": "stream",
          "name": "stdout",
          "text": [
            "Digite o título do livro para receber recomendações: harry potter\n",
            "\n",
            "Livros recomendados:\n",
            "Harry Potter Collection (Harry Potter  #1-6) (similaridade: 0.707)\n",
            "Looking for God in Harry Potter (similaridade: 0.632)\n",
            "Harry Potter ve Sırlar Odası (Harry Potter  #2) (similaridade: 0.577)\n",
            "Harry Potter Boxed Set  Books 1-5 (Harry Potter  #1-5) (similaridade: 0.577)\n",
            "Harry Potter and the Half-Blood Prince (Harry Potter  #6) (similaridade: 0.535)\n"
          ]
        }
      ],
      "source": [
        "import pandas as pd\n",
        "import re\n",
        "import unicodedata\n",
        "import numpy as np\n",
        "from sklearn.metrics.pairwise import cosine_similarity\n",
        "import math\n",
        "import nltk\n",
        "from nltk.corpus import stopwords\n",
        "\n",
        "# Baixar stopwords do português\n",
        "nltk.download('stopwords')\n",
        "stop_words = set(stopwords.words('portuguese'))\n",
        "\n",
        "# === Função de pré-processamento ===\n",
        "def preprocess_title(title):\n",
        "    if pd.isna(title):\n",
        "        return \"\"\n",
        "\n",
        "    # Remover colchetes, aspas e pontuação\n",
        "    title = re.sub(r\"[\\[\\]']\", \"\", title)\n",
        "    title = re.sub(r\"[^\\w\\s]\", \"\", title)\n",
        "    title = title.lower()\n",
        "\n",
        "    # Remover acentuação\n",
        "    title = ''.join(\n",
        "        char for char in unicodedata.normalize('NFD', title)\n",
        "        if unicodedata.category(char) != 'Mn'\n",
        "    )\n",
        "\n",
        "    # Remover stopwords\n",
        "    words = title.split()\n",
        "    filtered_words = [word for word in words if word not in stop_words]\n",
        "\n",
        "    return \" \".join(filtered_words)\n",
        "\n",
        "# === Função de recomendação ===\n",
        "def recommend_titles(user_input, books_df):\n",
        "    user_input = preprocess_title(user_input)\n",
        "    user_vector = np.zeros(len(unique_words))\n",
        "\n",
        "    for word in user_input.split():\n",
        "        if word in word_index:\n",
        "            user_vector[word_index[word]] = 1\n",
        "\n",
        "    similarities = cosine_similarity([user_vector], word_bow.values)[0]\n",
        "    angles = [round(math.degrees(math.acos(sim)), 1) if -1 <= sim <= 1 else None for sim in similarities]\n",
        "\n",
        "    books_df['similarity'] = similarities\n",
        "    books_df['angle_degrees'] = angles\n",
        "\n",
        "    # Ordenar e exibir top 5 (ignorando resultados idênticos)\n",
        "    recommended_books = (\n",
        "        books_df.sort_values(by='similarity', ascending=False)\n",
        "        .query(\"similarity < 0.999\")  # evita mostrar o mesmo título\n",
        "        .head(5)\n",
        "    )\n",
        "    return recommended_books[['title', 'similarity', 'angle_degrees']]\n",
        "\n",
        "# === Carregar dataset ===\n",
        "data_path = '/content/books.csv'\n",
        "\n",
        "# Tenta ler com vírgula, depois com ponto e vírgula se falhar\n",
        "try:\n",
        "    books_df = pd.read_csv(data_path, on_bad_lines='skip')\n",
        "except Exception:\n",
        "    books_df = pd.read_csv(data_path, sep=';', on_bad_lines='skip')\n",
        "\n",
        "# === Limpeza dos títulos ===\n",
        "books_df['cleaned_title'] = books_df['title'].apply(preprocess_title)\n",
        "\n",
        "# === Criar vocabulário e matriz Bag of Words ===\n",
        "unique_words = sorted(set(\" \".join(books_df['cleaned_title']).split()))\n",
        "word_index = {word: idx for idx, word in enumerate(unique_words)}\n",
        "\n",
        "word_bow = pd.DataFrame(0, index=books_df.index, columns=unique_words)\n",
        "for idx, title in enumerate(books_df['cleaned_title']):\n",
        "    for word in title.split():\n",
        "        if word in word_bow.columns:\n",
        "            word_bow.loc[idx, word] = 1\n",
        "\n",
        "# === Entrada do usuário ===\n",
        "user_input = input(\"Digite o título do livro para receber recomendações: \")\n",
        "recommendations = recommend_titles(user_input, books_df)\n",
        "\n",
        "# === Exibir resultados ===\n",
        "print(\"\\nLivros recomendados:\")\n",
        "for idx, row in recommendations.iterrows():\n",
        "    print(f\"{row['title']} (similaridade: {row['similarity']:.3f})\")\n"
      ]
    }
  ]
}